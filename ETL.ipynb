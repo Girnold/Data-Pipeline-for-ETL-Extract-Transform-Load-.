{
 "cells": [
  {
   "cell_type": "code",
   "execution_count": 1,
   "id": "e9fd060a",
   "metadata": {},
   "outputs": [],
   "source": [
    "import pandas as pd \n",
    "import requests as req\n",
    "import datetime as dt\n",
    "import mysql.connector"
   ]
  },
  {
   "cell_type": "code",
   "execution_count": 2,
   "id": "d7dc507e",
   "metadata": {
    "scrolled": true
   },
   "outputs": [],
   "source": [
    "API_KEY = 'c577f4969f86ebf533d142953293152b'\n",
    "CITIES =  ['London','Mumbai','New York','Manila','Paris','Tokyo']"
   ]
  },
  {
   "cell_type": "code",
   "execution_count": 8,
   "id": "a5833dbb",
   "metadata": {},
   "outputs": [],
   "source": [
    "#MYSQL coneection configuration\n",
    "db_config = {\n",
    "    'host':'localhost',\n",
    "    'user':'root',\n",
    "    'password':'Query@1727',\n",
    "    'database':'WeatherDB'\n",
    "}"
   ]
  },
  {
   "cell_type": "code",
   "execution_count": 18,
   "id": "5c24b7e2",
   "metadata": {
    "scrolled": true
   },
   "outputs": [
    {
     "name": "stdout",
     "output_type": "stream",
     "text": [
      "{'coord': {'lon': -0.1257, 'lat': 51.5085}, 'weather': [{'id': 502, 'main': 'Rain', 'description': 'heavy intensity rain', 'icon': '10n'}], 'base': 'stations', 'main': {'temp': 13.31, 'feels_like': 286.14, 'temp_min': 285.43, 'temp_max': 287.2, 'pressure': 997, 'humidity': 88, 'sea_level': 997, 'grnd_level': 994}, 'visibility': 10000, 'wind': {'speed': 8.75, 'deg': 210, 'gust': 14.4}, 'rain': {'1h': 4.21}, 'clouds': {'all': 100}, 'dt': 1732389908, 'sys': {'type': 2, 'id': 268730, 'country': 'GB', 'sunrise': Timestamp('2024-11-23 07:32:31'), 'sunset': Timestamp('2024-11-23 16:01:51')}, 'timezone': 0, 'id': 2643743, 'name': 'London', 'cod': 200}\n",
      "{'coord': {'lon': 72.8479, 'lat': 19.0144}, 'weather': [{'id': 721, 'main': 'Haze', 'description': 'haze', 'icon': '50n'}], 'base': 'stations', 'main': {'temp': 25.99, 'feels_like': 299.14, 'temp_min': 299.14, 'temp_max': 299.14, 'pressure': 1012, 'humidity': 61, 'sea_level': 1012, 'grnd_level': 1011}, 'visibility': 2200, 'wind': {'speed': 2.06, 'deg': 120}, 'clouds': {'all': 100}, 'dt': 1732390123, 'sys': {'type': 1, 'id': 9052, 'country': 'IN', 'sunrise': Timestamp('2024-11-24 01:21:30'), 'sunset': Timestamp('2024-11-24 12:29:33')}, 'timezone': 19800, 'id': 1275339, 'name': 'Mumbai', 'cod': 200}\n",
      "{'coord': {'lon': -74.006, 'lat': 40.7143}, 'weather': [{'id': 800, 'main': 'Clear', 'description': 'clear sky', 'icon': '01d'}], 'base': 'stations', 'main': {'temp': 9.76, 'feels_like': 278.68, 'temp_min': 281.62, 'temp_max': 283.86, 'pressure': 1002, 'humidity': 59, 'sea_level': 1002, 'grnd_level': 1001}, 'visibility': 10000, 'wind': {'speed': 11.83, 'deg': 300, 'gust': 19.03}, 'clouds': {'all': 0}, 'dt': 1732390296, 'sys': {'type': 2, 'id': 2037026, 'country': 'US', 'sunrise': Timestamp('2024-11-23 11:52:48'), 'sunset': Timestamp('2024-11-23 21:32:44')}, 'timezone': -18000, 'id': 5128581, 'name': 'New York', 'cod': 200}\n",
      "{'coord': {'lon': 120.9822, 'lat': 14.6042}, 'weather': [{'id': 801, 'main': 'Clouds', 'description': 'few clouds', 'icon': '02n'}], 'base': 'stations', 'main': {'temp': 26.73, 'feels_like': 302.38, 'temp_min': 299.32, 'temp_max': 300.92, 'pressure': 1011, 'humidity': 81, 'sea_level': 1011, 'grnd_level': 1009}, 'visibility': 10000, 'wind': {'speed': 0.51, 'deg': 0}, 'clouds': {'all': 20}, 'dt': 1732390012, 'sys': {'type': 2, 'id': 2008256, 'country': 'PH', 'sunrise': Timestamp('2024-11-23 22:01:42'), 'sunset': Timestamp('2024-11-24 09:24:11')}, 'timezone': 28800, 'id': 1701668, 'name': 'Manila', 'cod': 200}\n",
      "{'coord': {'lon': 2.3488, 'lat': 48.8534}, 'weather': [{'id': 800, 'main': 'Clear', 'description': 'clear sky', 'icon': '01n'}], 'base': 'stations', 'main': {'temp': 9.53, 'feels_like': 279.58, 'temp_min': 281.92, 'temp_max': 283.49, 'pressure': 1011, 'humidity': 73, 'sea_level': 1011, 'grnd_level': 1007}, 'visibility': 10000, 'wind': {'speed': 6.69, 'deg': 190}, 'clouds': {'all': 0}, 'dt': 1732389881, 'sys': {'type': 2, 'id': 2012208, 'country': 'FR', 'sunrise': Timestamp('2024-11-23 07:12:17'), 'sunset': Timestamp('2024-11-23 16:02:17')}, 'timezone': 3600, 'id': 2988507, 'name': 'Paris', 'cod': 200}\n",
      "{'coord': {'lon': 139.6917, 'lat': 35.6895}, 'weather': [{'id': 800, 'main': 'Clear', 'description': 'clear sky', 'icon': '01n'}], 'base': 'stations', 'main': {'temp': 8.43, 'feels_like': 278.93, 'temp_min': 279.7, 'temp_max': 282.96, 'pressure': 1022, 'humidity': 61, 'sea_level': 1022, 'grnd_level': 1017}, 'visibility': 10000, 'wind': {'speed': 4.63, 'deg': 10}, 'clouds': {'all': 0}, 'dt': 1732389936, 'sys': {'type': 2, 'id': 268395, 'country': 'JP', 'sunrise': Timestamp('2024-11-23 21:26:04'), 'sunset': Timestamp('2024-11-24 07:30:07')}, 'timezone': 32400, 'id': 1850144, 'name': 'Tokyo', 'cod': 200}\n"
     ]
    }
   ],
   "source": [
    "weather_list=[]\n",
    "\n",
    "for city in CITIES:\n",
    "    URL = f'https://api.openweathermap.org/data/2.5/weather?q={city}&appid={API_KEY}'\n",
    "    data = req.get(URL).json()\n",
    "    \n",
    "    #To convert Kelvin to Celsuis\n",
    "    def kelvin_to_celsuis():\n",
    "        data['main']['temp'] = round(data['main']['temp'] - 273.15,2)\n",
    "    \n",
    "    kelvin_to_celsuis()   \n",
    "\n",
    "    def sunrise_sunset():\n",
    "        data['sys']['sunrise'] = pd.to_datetime(data['sys']['sunrise'],unit='s')\n",
    "        data['sys']['sunset'] = pd.to_datetime(data['sys']['sunset'],unit='s')\n",
    "\n",
    "    sunrise_sunset()\n",
    "\n",
    "    weather_db = {\n",
    "    'Name':data['name'],\n",
    "    'Temperature':data['main']['temp'],\n",
    "    \"Description\":data['weather'][0]['description'],\n",
    "    'Humidity':data['main']['humidity'],\n",
    "    'AirPressure':data['main']['pressure'],\n",
    "    'Wind Speed':data['wind']['speed'],\n",
    "    'Sunrise':data['sys']['sunrise'],\n",
    "    'Sunset':data['sys']['sunset']\n",
    "    }\n",
    "\n",
    "    weather_list.append(weather_db)\n",
    "    \n",
    "    print(data)"
   ]
  },
  {
   "cell_type": "code",
   "execution_count": 19,
   "id": "0356a8f9",
   "metadata": {},
   "outputs": [],
   "source": [
    "df = pd.DataFrame(weather_list)"
   ]
  },
  {
   "cell_type": "code",
   "execution_count": 20,
   "id": "030f7c92",
   "metadata": {},
   "outputs": [
    {
     "name": "stdout",
     "output_type": "stream",
     "text": [
      "Data inserted sucessfully!\n",
      "Connection Successful!\n"
     ]
    }
   ],
   "source": [
    "try:\n",
    "    conn = mysql.connector.connect(**db_config)\n",
    "    cursor = conn.cursor()\n",
    "    \n",
    "    for _, row in df.iterrows():\n",
    "        cursor.execute(\"\"\"\n",
    "            INSERT INTO Weather (Name, Temperature, Description, Humidity, AirPressure, WindSpeed, Sunrise, Sunset)\n",
    "            VALUES (%s, %s, %s, %s, %s, %s, %s, %s)\n",
    "        \"\"\",(\n",
    "        row['Name'],\n",
    "        row['Temperature'],\n",
    "        row['Description'],\n",
    "        row['Humidity'],\n",
    "        row['AirPressure'],\n",
    "        row['Wind Speed'],\n",
    "        row['Sunrise'],\n",
    "        row['Sunset'],\n",
    "        ))\n",
    "    conn.commit()\n",
    "    print('Data inserted sucessfully!')\n",
    "\n",
    "except mysql.connector.Error as err:\n",
    "    print(f'Error: {err}')\n",
    "    \n",
    "finally:\n",
    "    if conn.is_connected():\n",
    "        print(\"Connection Successful!\")\n",
    "        cursor.close()\n",
    "        conn.close()"
   ]
  },
  {
   "cell_type": "code",
   "execution_count": 7,
   "id": "7b84d2f1",
   "metadata": {},
   "outputs": [
    {
     "name": "stdout",
     "output_type": "stream",
     "text": [
      "       Name  Temperature      Description  Humidity  Air pressure  Wind Speed  \\\n",
      "0    London        13.23  overcast clouds        89           997        8.75   \n",
      "1    Mumbai        25.99            smoke        61          1012        0.00   \n",
      "2  New York         9.49    broken clouds        62          1001       12.35   \n",
      "3    Manila        26.83       few clouds        80          1011        1.03   \n",
      "4     Paris         9.10        clear sky        74          1011        7.20   \n",
      "5     Tokyo         8.16  overcast clouds        61          1022        3.90   \n",
      "\n",
      "              Sunrise              Sunset  \n",
      "0 2024-11-23 07:32:31 2024-11-23 16:01:51  \n",
      "1 2024-11-24 01:21:30 2024-11-24 12:29:33  \n",
      "2 2024-11-23 11:52:48 2024-11-23 21:32:44  \n",
      "3 2024-11-23 22:01:42 2024-11-24 09:24:11  \n",
      "4 2024-11-23 07:12:17 2024-11-23 16:02:17  \n",
      "5 2024-11-23 21:26:04 2024-11-24 07:30:07  \n"
     ]
    }
   ],
   "source": [
    "print(df)"
   ]
  }
 ],
 "metadata": {
  "kernelspec": {
   "display_name": "Python 3 (ipykernel)",
   "language": "python",
   "name": "python3"
  },
  "language_info": {
   "codemirror_mode": {
    "name": "ipython",
    "version": 3
   },
   "file_extension": ".py",
   "mimetype": "text/x-python",
   "name": "python",
   "nbconvert_exporter": "python",
   "pygments_lexer": "ipython3",
   "version": "3.12.4"
  }
 },
 "nbformat": 4,
 "nbformat_minor": 5
}
